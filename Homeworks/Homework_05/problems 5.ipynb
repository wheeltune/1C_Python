{
 "cells": [
  {
   "cell_type": "markdown",
   "metadata": {},
   "source": [
    "# Задание 5"
   ]
  },
  {
   "cell_type": "markdown",
   "metadata": {},
   "source": [
    "## 1. ContextTimer(0.3 балла)\n",
    "Напишите менеджер контекста, который позволит засекать время выполнения блока кода с помощью конструкции with и выводить это время на экран по выходу из блока. Пример использования:\n",
    "\n",
    "<code>\n",
    "with Timer ():\n",
    "    do_some_long_stuff()\n",
    "</code>\n",
    "\n",
    "Рекомендации: используйте стандартную библиотеку для работы со временем.\n",
    "\n",
    "Протестируйте себя."
   ]
  },
  {
   "cell_type": "code",
   "execution_count": 5,
   "metadata": {},
   "outputs": [],
   "source": [
    "from datetime import datetime\n",
    "import time\n",
    "\n",
    "\n",
    "class Timer:\n",
    "    def __enter__(self):\n",
    "        self.start_time = datetime.now()\n",
    "        \n",
    "    def __exit__(self, type, value, traceback):\n",
    "        print(\"Elapsed time: {}\".format(datetime.now() - self.start_time))"
   ]
  },
  {
   "cell_type": "code",
   "execution_count": 6,
   "metadata": {},
   "outputs": [
    {
     "name": "stdout",
     "output_type": "stream",
     "text": [
      "Elapsed time: 0:00:01.001506\n"
     ]
    },
    {
     "ename": "Exception",
     "evalue": "SOS",
     "output_type": "error",
     "traceback": [
      "\u001b[0;31m---------------------------------------------------------------------------\u001b[0m",
      "\u001b[0;31mException\u001b[0m                                 Traceback (most recent call last)",
      "\u001b[0;32m<ipython-input-6-d3e1fc1d220e>\u001b[0m in \u001b[0;36m<module>\u001b[0;34m()\u001b[0m\n\u001b[1;32m      1\u001b[0m \u001b[0;32mwith\u001b[0m \u001b[0mTimer\u001b[0m\u001b[0;34m(\u001b[0m\u001b[0;34m)\u001b[0m\u001b[0;34m:\u001b[0m\u001b[0;34m\u001b[0m\u001b[0m\n\u001b[1;32m      2\u001b[0m     \u001b[0mtime\u001b[0m\u001b[0;34m.\u001b[0m\u001b[0msleep\u001b[0m\u001b[0;34m(\u001b[0m\u001b[0;36m1\u001b[0m\u001b[0;34m)\u001b[0m\u001b[0;34m\u001b[0m\u001b[0m\n\u001b[0;32m----> 3\u001b[0;31m     \u001b[0;32mraise\u001b[0m \u001b[0mException\u001b[0m\u001b[0;34m(\u001b[0m\u001b[0;34m\"SOS\"\u001b[0m\u001b[0;34m)\u001b[0m\u001b[0;34m\u001b[0m\u001b[0m\n\u001b[0m\u001b[1;32m      4\u001b[0m     \u001b[0mtime\u001b[0m\u001b[0;34m.\u001b[0m\u001b[0msleep\u001b[0m\u001b[0;34m(\u001b[0m\u001b[0;36m10000\u001b[0m\u001b[0;34m)\u001b[0m\u001b[0;34m\u001b[0m\u001b[0m\n",
      "\u001b[0;31mException\u001b[0m: SOS"
     ]
    }
   ],
   "source": [
    "with Timer():\n",
    "    time.sleep(1)\n",
    "    raise Exception(\"SOS\")\n",
    "    time.sleep(10000)"
   ]
  },
  {
   "cell_type": "code",
   "execution_count": 7,
   "metadata": {},
   "outputs": [
    {
     "name": "stdout",
     "output_type": "stream",
     "text": [
      "CPU times: user 8 µs, sys: 18 µs, total: 26 µs\n",
      "Wall time: 66 µs\n",
      "Compiler : 8.92 s\n",
      "Elapsed time: 0:00:39.530424\n"
     ]
    }
   ],
   "source": [
    "with Timer():   \n",
    "    %time 2 ** 999999999"
   ]
  },
  {
   "cell_type": "code",
   "execution_count": 8,
   "metadata": {},
   "outputs": [
    {
     "name": "stdout",
     "output_type": "stream",
     "text": [
      "Elapsed time: 0:00:00.000161\n"
     ]
    }
   ],
   "source": [
    "with Timer():   \n",
    "    2 ** 999999999"
   ]
  },
  {
   "cell_type": "markdown",
   "metadata": {},
   "source": [
    "## 2.Transaction (0.4 балла)\n",
    "Вам необходимо написать менеджер контекстов, который позволит безопасно работать с транзакциями. Напишите класс Storage, в котором будут храниться какие-то данные в виде словаря. Эти данные должны быть закрытыми и их можно только читать через операцию []. У этого класса должен быть метод edit, который возвращает менеджер контекста, позволяющий редактировать исходный объект (опять же через []). При этом результаты редактирования записываются в исходный объект только если весь блок выполнился успешно. Пример использования:\n",
    "\n",
    "<code>\n",
    "s = Storage()\n",
    "with s.edit() as se :\n",
    "    se[\"a\"] = 1\n",
    "    may_be_an_exception_here()\n",
    "</code>\n",
    "\n",
    "Протестируйте себя."
   ]
  },
  {
   "cell_type": "code",
   "execution_count": 80,
   "metadata": {},
   "outputs": [],
   "source": [
    "import re\n",
    "\n",
    "class Storage:\n",
    "    def __init__(self):\n",
    "        self.__data = {}\n",
    "    \n",
    "    def __repr__(self):\n",
    "        return self.__data.__repr__()\n",
    "    \n",
    "    def __str__(self):\n",
    "        return self.__data.__str__()\n",
    "    \n",
    "    def __getitem__(self, name):\n",
    "        return self.__data[name]\n",
    "    \n",
    "    def edit(self):\n",
    "        return StorageManager(self)\n",
    "    \n",
    "\n",
    "class StorageManager:\n",
    "    def __init__(self, storage):\n",
    "        self.__storage = storage\n",
    "        self.__changes = {}\n",
    "    \n",
    "    def __setitem__(self, name, value):\n",
    "        self.__changes[name] = value\n",
    "    \n",
    "    def __getitem__(self, name):\n",
    "        return self.__changes[name]\n",
    "    \n",
    "    def __enter__(self):\n",
    "        return self\n",
    "    \n",
    "    def __exit__(self, type, value, traceback):\n",
    "        if traceback is None:\n",
    "            self.__storage._Storage__data.update(self.__changes)"
   ]
  },
  {
   "cell_type": "code",
   "execution_count": 88,
   "metadata": {},
   "outputs": [],
   "source": [
    "s = Storage()\n",
    "\n",
    "with s.edit() as sm:\n",
    "    sm[\"number\"] = 10\n",
    "    sm[\"name\"] = \"First name\""
   ]
  },
  {
   "cell_type": "code",
   "execution_count": 89,
   "metadata": {},
   "outputs": [
    {
     "data": {
      "text/plain": [
       "{'number': 10, 'name': 'First name'}"
      ]
     },
     "execution_count": 89,
     "metadata": {},
     "output_type": "execute_result"
    }
   ],
   "source": [
    "try:\n",
    "    with s.edit() as sm:\n",
    "        sm[\"number\"] = 100\n",
    "        raise Exception(\"SOS\")\n",
    "except:\n",
    "    pass\n",
    "\n",
    "s"
   ]
  },
  {
   "cell_type": "code",
   "execution_count": 92,
   "metadata": {},
   "outputs": [
    {
     "data": {
      "text/plain": [
       "{'number': 100, 'name': 'First name', 'surname': 'Second name'}"
      ]
     },
     "execution_count": 92,
     "metadata": {},
     "output_type": "execute_result"
    }
   ],
   "source": [
    "try:\n",
    "    with s.edit() as sm:\n",
    "        sm[\"number\"] = 100\n",
    "        sm[\"surname\"] = \"Second name\"\n",
    "except:\n",
    "    pass\n",
    "\n",
    "s"
   ]
  },
  {
   "cell_type": "markdown",
   "metadata": {},
   "source": [
    "## Phone numbers (0.3)\n",
    "Напишите регулярное выражение для распознавания телефонных номеров и протестируйте себя. Номера, которые должны распознаваться:\n",
    "* 3-22-46\n",
    "* +71239513749\n",
    "* 71239513749\n",
    "* 1239513749\n",
    "* +7(123)-951-37-49\n",
    "* +7(123)9513749\n",
    "* +7-123-9513749\n",
    "* +7-123-951-37-49\n",
    "\n",
    "* 7(123)-951-37-49\n",
    "* 7(123)9513749\n",
    "* 7-123-9513749\n",
    "* 7-123-951-37-49\n",
    "\n",
    "* (123)-951-37-49\n",
    "* (123)9513749\n",
    "* 123-9513749\n",
    "* 123-951-37-49"
   ]
  },
  {
   "cell_type": "code",
   "execution_count": 96,
   "metadata": {},
   "outputs": [
    {
     "data": {
      "text/plain": [
       "'3-22-46 some text+71239513749 some text71239513749 some text1239513749 some text+7(123)-951-37-49 some text+7(123)9513749 some text+7-123-9513749 some text+7-123-951-37-49 some text7(123)-951-37-49 some text7(123)9513749 some text7-123-9513749 some text7-123-951-37-49 some text(123)-951-37-49 some text(123)9513749 some text123-9513749 some text123-951-37-49'"
      ]
     },
     "execution_count": 96,
     "metadata": {},
     "output_type": "execute_result"
    }
   ],
   "source": [
    "import re\n",
    "\n",
    "phone_dataset = [\n",
    "    \"3-22-46\",\n",
    "    \"+71239513749\",\n",
    "    \"71239513749\",\n",
    "    \"1239513749\",\n",
    "    \"+7(123)-951-37-49\",\n",
    "    \"+7(123)9513749\",\n",
    "    \"+7-123-9513749\",\n",
    "    \"+7-123-951-37-49\",\n",
    "    \"7(123)-951-37-49\",\n",
    "    \"7(123)9513749\",\n",
    "    \"7-123-9513749\",\n",
    "    \"7-123-951-37-49\",\n",
    "    \"(123)-951-37-49\",\n",
    "    \"(123)9513749\",\n",
    "    \"123-9513749\",\n",
    "    \"123-951-37-49\",\n",
    "]\n",
    "\n",
    "text = \" some text\".join(phone_dataset)\n",
    "text"
   ]
  },
  {
   "cell_type": "code",
   "execution_count": 125,
   "metadata": {},
   "outputs": [],
   "source": [
    "phone_regex = re.compile(\n",
    "    r\"([+]?(7)?[(-]?(\\d{3})?[)]?[-]?(\\d{3})[-]?(\\d{2})[-]?(\\d{2}))|((\\d)[-]?(\\d{2})[-]?(\\d{2}))\"\n",
    ")"
   ]
  },
  {
   "cell_type": "code",
   "execution_count": 136,
   "metadata": {},
   "outputs": [
    {
     "data": {
      "text/plain": [
       "[('', '', '', '', '', '', '3-22-46', '3', '22', '46'),\n",
       " ('+71239513749', '7', '123', '951', '37', '49', '', '', '', ''),\n",
       " ('71239513749', '7', '123', '951', '37', '49', '', '', '', ''),\n",
       " ('1239513749', '', '123', '951', '37', '49', '', '', '', ''),\n",
       " ('+7(123)-951-37-49', '7', '123', '951', '37', '49', '', '', '', ''),\n",
       " ('+7(123)9513749', '7', '123', '951', '37', '49', '', '', '', ''),\n",
       " ('+7-123-9513749', '7', '123', '951', '37', '49', '', '', '', ''),\n",
       " ('+7-123-951-37-49', '7', '123', '951', '37', '49', '', '', '', ''),\n",
       " ('7(123)-951-37-49', '7', '123', '951', '37', '49', '', '', '', ''),\n",
       " ('7(123)9513749', '7', '123', '951', '37', '49', '', '', '', ''),\n",
       " ('7-123-9513749', '7', '123', '951', '37', '49', '', '', '', ''),\n",
       " ('7-123-951-37-49', '7', '123', '951', '37', '49', '', '', '', ''),\n",
       " ('(123)-951-37-49', '', '123', '951', '37', '49', '', '', '', ''),\n",
       " ('(123)9513749', '', '123', '951', '37', '49', '', '', '', ''),\n",
       " ('123-9513749', '', '123', '951', '37', '49', '', '', '', ''),\n",
       " ('123-951-37-49', '', '123', '951', '37', '49', '', '', '', '')]"
      ]
     },
     "execution_count": 136,
     "metadata": {},
     "output_type": "execute_result"
    }
   ],
   "source": [
    "phone_regex.findall(text)"
   ]
  },
  {
   "cell_type": "code",
   "execution_count": 137,
   "metadata": {},
   "outputs": [],
   "source": [
    "def normalize_phone(groups):\n",
    "    groups = list(groups)\n",
    "    groups[1] = '+7'\n",
    "    if groups[0] != '':\n",
    "        return groups[1] + groups[2] + groups[3] + groups[4]\n",
    "    else:\n",
    "        return groups[7] + groups[8] + groups[9]"
   ]
  },
  {
   "cell_type": "code",
   "execution_count": 138,
   "metadata": {},
   "outputs": [
    {
     "data": {
      "text/plain": [
       "['32246',\n",
       " '+712395137',\n",
       " '+712395137',\n",
       " '+712395137',\n",
       " '+712395137',\n",
       " '+712395137',\n",
       " '+712395137',\n",
       " '+712395137',\n",
       " '+712395137',\n",
       " '+712395137',\n",
       " '+712395137',\n",
       " '+712395137',\n",
       " '+712395137',\n",
       " '+712395137',\n",
       " '+712395137',\n",
       " '+712395137']"
      ]
     },
     "execution_count": 138,
     "metadata": {},
     "output_type": "execute_result"
    }
   ],
   "source": [
    "list(map(normalize_phone, phone_regex.findall(text)))"
   ]
  }
 ],
 "metadata": {
  "kernelspec": {
   "display_name": "Python 3",
   "language": "python",
   "name": "python3"
  },
  "language_info": {
   "codemirror_mode": {
    "name": "ipython",
    "version": 3
   },
   "file_extension": ".py",
   "mimetype": "text/x-python",
   "name": "python",
   "nbconvert_exporter": "python",
   "pygments_lexer": "ipython3",
   "version": "3.6.4"
  }
 },
 "nbformat": 4,
 "nbformat_minor": 2
}
