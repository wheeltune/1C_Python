{
 "cells": [
  {
   "cell_type": "markdown",
   "metadata": {},
   "source": [
    "# Задание 3"
   ]
  },
  {
   "cell_type": "markdown",
   "metadata": {},
   "source": [
    "#### CounterGetter (0.1 балл)\n",
    "Реализуйте класс CounterGetter, который на вход принимает произвольное количество именованых аргументов и считает количество обращений к полям и методам класса во всех экземплярах."
   ]
  },
  {
   "cell_type": "markdown",
   "metadata": {},
   "source": [
    "## Реализация"
   ]
  },
  {
   "cell_type": "code",
   "execution_count": 1163,
   "metadata": {},
   "outputs": [],
   "source": [
    "from collections import Counter\n",
    "\n",
    "class CounterGetter(object):\n",
    "    __counter = Counter()\n",
    "    \n",
    "    def __init__(self, **kwargs):\n",
    "        for key in kwargs:\n",
    "            self.__setattr__(key, kwargs[key])\n",
    "    \n",
    "    def __getattribute__(self, name):\n",
    "        counter = object.__getattribute__(self, \"_CounterGetter__counter\")\n",
    "        counter[name] += 1\n",
    "        object.__setattr__(self, \"__counter\", counter)\n",
    "\n",
    "        return object.__getattribute__(self, name)"
   ]
  },
  {
   "cell_type": "markdown",
   "metadata": {},
   "source": [
    "## Тестирование"
   ]
  },
  {
   "cell_type": "code",
   "execution_count": 1164,
   "metadata": {},
   "outputs": [],
   "source": [
    "class A(CounterGetter):\n",
    "    def __init__(self, a, b, c, d):\n",
    "        self.a = a\n",
    "        self.mas = [b, c, d]\n",
    "        \n",
    "    def sum(self):\n",
    "        return sum(self.mas)"
   ]
  },
  {
   "cell_type": "code",
   "execution_count": 1165,
   "metadata": {},
   "outputs": [],
   "source": [
    "a = A(4, 3, 5, 4)"
   ]
  },
  {
   "cell_type": "code",
   "execution_count": 1166,
   "metadata": {},
   "outputs": [
    {
     "data": {
      "text/plain": [
       "Counter({'__counter': 1})"
      ]
     },
     "execution_count": 1166,
     "metadata": {},
     "output_type": "execute_result"
    }
   ],
   "source": [
    "a.__counter"
   ]
  },
  {
   "cell_type": "code",
   "execution_count": 1167,
   "metadata": {},
   "outputs": [
    {
     "data": {
      "text/plain": [
       "12"
      ]
     },
     "execution_count": 1167,
     "metadata": {},
     "output_type": "execute_result"
    }
   ],
   "source": [
    "a.sum()"
   ]
  },
  {
   "cell_type": "code",
   "execution_count": 1168,
   "metadata": {},
   "outputs": [
    {
     "data": {
      "text/plain": [
       "Counter({'__counter': 2, 'mas': 1, 'sum': 1})"
      ]
     },
     "execution_count": 1168,
     "metadata": {},
     "output_type": "execute_result"
    }
   ],
   "source": [
    "a.__counter"
   ]
  },
  {
   "cell_type": "code",
   "execution_count": 1169,
   "metadata": {},
   "outputs": [
    {
     "data": {
      "text/plain": [
       "Counter({'__counter': 3, 'a': 1000, 'mas': 1, 'sum': 1})"
      ]
     },
     "execution_count": 1169,
     "metadata": {},
     "output_type": "execute_result"
    }
   ],
   "source": [
    "for i in range(1000):\n",
    "    a.a\n",
    "a.__counter"
   ]
  },
  {
   "cell_type": "code",
   "execution_count": 1170,
   "metadata": {},
   "outputs": [
    {
     "name": "stdout",
     "output_type": "stream",
     "text": [
      "12\n"
     ]
    },
    {
     "data": {
      "text/plain": [
       "Counter({'__counter': 4, 'a': 1000, 'mas': 5, 'sum': 1})"
      ]
     },
     "execution_count": 1170,
     "metadata": {},
     "output_type": "execute_result"
    }
   ],
   "source": [
    "s = 0\n",
    "for i in range(len(a.mas)):\n",
    "    s += a.mas[i]\n",
    "print(s)\n",
    "a.__counter"
   ]
  },
  {
   "cell_type": "code",
   "execution_count": 1171,
   "metadata": {},
   "outputs": [],
   "source": [
    "class B(CounterGetter):\n",
    "    def __init__(self, f1, f2):\n",
    "        self.f1 = f1\n",
    "        self.f2 = f2"
   ]
  },
  {
   "cell_type": "code",
   "execution_count": 1172,
   "metadata": {},
   "outputs": [
    {
     "data": {
      "text/plain": [
       "Counter({'__counter': 5, 'a': 1000, 'mas': 5, 'sum': 1})"
      ]
     },
     "execution_count": 1172,
     "metadata": {},
     "output_type": "execute_result"
    }
   ],
   "source": [
    "b = B(1, 1)\n",
    "b.__counter"
   ]
  },
  {
   "cell_type": "code",
   "execution_count": 1173,
   "metadata": {},
   "outputs": [
    {
     "name": "stdout",
     "output_type": "stream",
     "text": [
      "354224848179261915075 573147844013817084101\n"
     ]
    },
    {
     "data": {
      "text/plain": [
       "Counter({'__counter': 6, 'a': 1000, 'f1': 100, 'f2': 199, 'mas': 5, 'sum': 1})"
      ]
     },
     "execution_count": 1173,
     "metadata": {},
     "output_type": "execute_result"
    }
   ],
   "source": [
    "for i in range(99):\n",
    "    b.f1, b.f2 = b.f2, b.f1 + b.f2\n",
    "print(b.f1, b.f2)\n",
    "b.__counter"
   ]
  },
  {
   "cell_type": "markdown",
   "metadata": {},
   "source": [
    "#### Vector (0.4 балла)"
   ]
  },
  {
   "cell_type": "markdown",
   "metadata": {},
   "source": [
    "Реализуйте класс вектор, который должен обладать следующими свойствами:\n",
    "* Над экземплярами выполняются арифметические операции (+-\\*/). Операции могут выполняться как с числами, так и с векторами. Если второй операнд вектор, то верните их скалярное произведение, если число, выполните поэлементное действие.\n",
    "* Реализуйте доступ к элементам вектора по индексам:\n",
    "\n",
    "<code>vec = Vector(1, 2, 3)\n",
    "\n",
    "vec[0]</code>\n",
    "* Реализуйте умножение вектора на матрицу (Матрица задается двумерным списком).\n",
    "* Поддерживайте методы push_back, pop_back, insert.\n",
    "* Реализуйте поддержку функции len\n",
    "\n",
    "P. S. Запрещается использовать numpy и другие библиотеки по работе с векторами. Рекомендуется представлять элементы вектора как список."
   ]
  },
  {
   "cell_type": "markdown",
   "metadata": {},
   "source": [
    "## Реальзация"
   ]
  },
  {
   "cell_type": "code",
   "execution_count": 1175,
   "metadata": {},
   "outputs": [],
   "source": [
    "import math\n",
    "\n",
    "class Vector(object):\n",
    "    def __init__(self, *args):        \n",
    "        if len(args) == 0:\n",
    "            self.vec = []\n",
    "        elif len(args) == 1 and isinstance(args[0], list):\n",
    "            self.vec = args[0]\n",
    "        else:\n",
    "            self.vec = list(args)\n",
    "    \n",
    "    # 1. Операции над вектором\n",
    "    def oper(self, value, func):\n",
    "        if isinstance(value, Vector):\n",
    "            if len(value) != len(self):\n",
    "                raise ArithmeticError()\n",
    "            \n",
    "            return Vector(*list(map(lambda pair: func(pair[0], pair[1]), \n",
    "                                    zip(self.vec, value.vec))))\n",
    "        else:\n",
    "            return Vector(*list(map(lambda pair: func(pair[0], pair[1]), \n",
    "                                    zip(self.vec, [ value ] * len(self)))))\n",
    "    \n",
    "    def __add__(self, value):\n",
    "        return self.oper(value, lambda x, y: x + y)\n",
    "    \n",
    "    def __sub__(self, value):\n",
    "        return self.oper(value, lambda x, y: x - y)\n",
    "    \n",
    "    def __truediv__(self, value):\n",
    "        return self.oper(value, lambda x, y: x / y)\n",
    "        \n",
    "    def __mul__(self, value):\n",
    "        if isinstance(value, Vector):\n",
    "            if len(value) != len(self):\n",
    "                raise ArithmeticError()\n",
    "                \n",
    "            result = 0\n",
    "            for i, v in enumerate(self.vec):\n",
    "                result += v * value.vec[i]\n",
    "            return result\n",
    "        else:\n",
    "            return self.oper(value, lambda x, y: x * y)\n",
    "    \n",
    "    # 2. Досутп к вектору по индексам\n",
    "    def __setitem__(self, key, value):\n",
    "        self.vec[key] = value\n",
    "        \n",
    "    def __getitem__(self, key):\n",
    "        return self.vec[key]\n",
    "    \n",
    "    # 3. Умножение вектора на матрицу\n",
    "    def matrix_mult(self, matrix):\n",
    "        result = Vector([ 0 ] * len(self))\n",
    "        for j in range(len(matrix[0])):\n",
    "            column = []\n",
    "            for i in range(len(matrix)):\n",
    "                column.append(matrix[i][j] * self.vec[j])\n",
    "                \n",
    "            result = result + Vector(column)\n",
    "        return result\n",
    "    \n",
    "    # 4. Поддержка методов push_back, pop_back, insert.\n",
    "    def push_back(self, element):\n",
    "        self.vec.append(element)\n",
    "        \n",
    "    def pop_back(self):\n",
    "        return self.vec.pop()\n",
    "    \n",
    "    def insert(self, element, index):\n",
    "        self.vec.insert(element, index)\n",
    "        \n",
    "    # 5. Реальзация функции len\n",
    "    def __len__(self):\n",
    "        return len(self.vec)\n",
    "    \n",
    "    # Остальное\n",
    "    def __repr__(self):\n",
    "        return repr(self.vec)\n",
    "    \n",
    "    def __str__(self):\n",
    "        return str(self.vec)"
   ]
  },
  {
   "cell_type": "markdown",
   "metadata": {},
   "source": [
    "## Тестирование"
   ]
  },
  {
   "cell_type": "markdown",
   "metadata": {},
   "source": [
    "### Арифметические операции"
   ]
  },
  {
   "cell_type": "code",
   "execution_count": 1176,
   "metadata": {},
   "outputs": [],
   "source": [
    "v1 = Vector(1, 2, 3, 4, 5)\n",
    "v2 = Vector(5, 6, 7, 8, 9)"
   ]
  },
  {
   "cell_type": "code",
   "execution_count": 1187,
   "metadata": {},
   "outputs": [
    {
     "data": {
      "text/plain": [
       "[-2.6666666666666665, -1.3333333333333335, 0.0, 1.3333333333333333, 2.666666666666667]"
      ]
     },
     "execution_count": 1187,
     "metadata": {},
     "output_type": "execute_result"
    }
   ],
   "source": [
    "v1 / 3 + (v2 - 8)"
   ]
  },
  {
   "cell_type": "code",
   "execution_count": 1183,
   "metadata": {},
   "outputs": [
    {
     "data": {
      "text/plain": [
       "[0, 4, 8, 12, 16]"
      ]
     },
     "execution_count": 1183,
     "metadata": {},
     "output_type": "execute_result"
    }
   ],
   "source": [
    "v1 * 5 - v2"
   ]
  },
  {
   "cell_type": "code",
   "execution_count": 1185,
   "metadata": {},
   "outputs": [
    {
     "data": {
      "text/plain": [
       "[100.2, 100.33333333333333, 100.42857142857143, 100.5, 100.55555555555556]"
      ]
     },
     "execution_count": 1185,
     "metadata": {},
     "output_type": "execute_result"
    }
   ],
   "source": [
    "v1 / v2 + 100"
   ]
  },
  {
   "cell_type": "code",
   "execution_count": 1180,
   "metadata": {},
   "outputs": [
    {
     "data": {
      "text/plain": [
       "115"
      ]
     },
     "execution_count": 1180,
     "metadata": {},
     "output_type": "execute_result"
    }
   ],
   "source": [
    "v1 * v2"
   ]
  },
  {
   "cell_type": "code",
   "execution_count": 1188,
   "metadata": {},
   "outputs": [
    {
     "data": {
      "text/plain": [
       "5"
      ]
     },
     "execution_count": 1188,
     "metadata": {},
     "output_type": "execute_result"
    }
   ],
   "source": [
    "Vector(1, 1, 1, 1, 1) * Vector(1, 1, 1, 1, 1)"
   ]
  },
  {
   "cell_type": "markdown",
   "metadata": {},
   "source": [
    "### Доступ к элементам по индексам"
   ]
  },
  {
   "cell_type": "code",
   "execution_count": 1201,
   "metadata": {},
   "outputs": [],
   "source": [
    "v1 = Vector(1, 2, 3, 4, 5)\n",
    "v2 = Vector(5, 6, 7, 8, 9)"
   ]
  },
  {
   "cell_type": "code",
   "execution_count": 1202,
   "metadata": {},
   "outputs": [
    {
     "name": "stdout",
     "output_type": "stream",
     "text": [
      "1 2 3 4 5 "
     ]
    }
   ],
   "source": [
    "for i in range(len(v1)):\n",
    "    print(v1[i], end=\" \")"
   ]
  },
  {
   "cell_type": "code",
   "execution_count": 1203,
   "metadata": {},
   "outputs": [
    {
     "name": "stdout",
     "output_type": "stream",
     "text": [
      "[1, 2, 3, 4, 5]\n"
     ]
    },
    {
     "data": {
      "text/plain": [
       "([5, 6, 7, 8, 9], [5, 6, 7, 8, 9])"
      ]
     },
     "execution_count": 1203,
     "metadata": {},
     "output_type": "execute_result"
    }
   ],
   "source": [
    "print(v1)\n",
    "for i in range(len(v1)):\n",
    "    v1[i] = v2[i]\n",
    "v1, v2"
   ]
  },
  {
   "cell_type": "markdown",
   "metadata": {},
   "source": [
    "### Умножение вектора на матрицу"
   ]
  },
  {
   "cell_type": "code",
   "execution_count": 1204,
   "metadata": {},
   "outputs": [],
   "source": [
    "v1 = Vector(1, 2, 3, 4, 5)"
   ]
  },
  {
   "cell_type": "code",
   "execution_count": 1206,
   "metadata": {},
   "outputs": [
    {
     "data": {
      "text/plain": [
       "[1, 3, 6, 10, 15]"
      ]
     },
     "execution_count": 1206,
     "metadata": {},
     "output_type": "execute_result"
    }
   ],
   "source": [
    "v1.matrix_mult([[1, 0, 0, 0, 0], [1, 1, 0, 0, 0], [1, 1, 1, 0, 0], [1, 1, 1, 1, 0], [1, 1, 1, 1, 1]])"
   ]
  },
  {
   "cell_type": "markdown",
   "metadata": {},
   "source": [
    "### Методы `push_back`, `pop_back` и `insert`"
   ]
  },
  {
   "cell_type": "code",
   "execution_count": 1221,
   "metadata": {},
   "outputs": [],
   "source": [
    "v1 = Vector(1, 2, 3, 4, 5)"
   ]
  },
  {
   "cell_type": "code",
   "execution_count": 1222,
   "metadata": {},
   "outputs": [
    {
     "data": {
      "text/plain": [
       "[1, 2, 3, 4, 5, 6]"
      ]
     },
     "execution_count": 1222,
     "metadata": {},
     "output_type": "execute_result"
    }
   ],
   "source": [
    "v1.push_back(6)\n",
    "v1"
   ]
  },
  {
   "cell_type": "code",
   "execution_count": 1223,
   "metadata": {},
   "outputs": [
    {
     "name": "stdout",
     "output_type": "stream",
     "text": [
      "6\n"
     ]
    },
    {
     "data": {
      "text/plain": [
       "[1, 2, 3, 4, 5]"
      ]
     },
     "execution_count": 1223,
     "metadata": {},
     "output_type": "execute_result"
    }
   ],
   "source": [
    "print(v1.pop_back())\n",
    "v1"
   ]
  },
  {
   "cell_type": "code",
   "execution_count": 1224,
   "metadata": {},
   "outputs": [
    {
     "data": {
      "text/plain": [
       "[0, 1, 1, 2, 4, 3, 9, 4, 16, 5]"
      ]
     },
     "execution_count": 1224,
     "metadata": {},
     "output_type": "execute_result"
    }
   ],
   "source": [
    "for i in range(len(v1)):\n",
    "    v1.insert(2 * i, i ** 2)\n",
    "v1"
   ]
  },
  {
   "cell_type": "markdown",
   "metadata": {},
   "source": [
    "### Поддержка функции `len`"
   ]
  },
  {
   "cell_type": "code",
   "execution_count": 1235,
   "metadata": {},
   "outputs": [],
   "source": [
    "v1 = Vector()"
   ]
  },
  {
   "cell_type": "code",
   "execution_count": 1236,
   "metadata": {},
   "outputs": [
    {
     "name": "stdout",
     "output_type": "stream",
     "text": [
      "1 2 3 4 5 6 7 8 9 10 11 12 13 14 15 16 17 18 19 20 21 22 23 24 25 26 27 28 29 30 "
     ]
    }
   ],
   "source": [
    "for i in range(30):\n",
    "    v1.push_back(i)\n",
    "    print(len(v1), end=' ')"
   ]
  },
  {
   "cell_type": "markdown",
   "metadata": {},
   "source": [
    "#### Table (0.5 баллов)"
   ]
  },
  {
   "cell_type": "markdown",
   "metadata": {},
   "source": [
    "Реализуйте класс для работы с таблицами. Класс должен обладать следующей функциональностью:\n",
    "\n",
    "* Таблица может задаваться как двумерным списком, так и читаться из файла. Если читается из файла, то должен быть указан разделитель.\n",
    "\n",
    "* Обладать возможностью задания названия колонок (по номеру, если не задано). Если читается из файла и задан параметр наличия именованных колонок, то первая строчка файла отвечает за названия колонок.\n",
    "\n",
    "* Реализуйте доступ к колонкам по названю и по индекс:\n",
    "\n",
    "<code>t = Table()\n",
    "\n",
    "t[\"index\"]</code>\n",
    "\n",
    "* Реализуйте функции head и tail, которые показывают заданное число строк с начала и с конца соответственно.\n",
    "* Реализуйте методы unique и count, которые выводят все уникальные элементы для таблицы или для заданного столбца:\n",
    "\n",
    "<code>\n",
    "\n",
    "t[\"sex\"].unique()\n",
    "\n",
    "t.unique()\n",
    "\n",
    "</code>"
   ]
  },
  {
   "cell_type": "markdown",
   "metadata": {},
   "source": [
    "## Реализация"
   ]
  },
  {
   "cell_type": "code",
   "execution_count": 973,
   "metadata": {},
   "outputs": [],
   "source": [
    "class Table:\n",
    "    # 1. Илициализация (двумерный список, словарь)\n",
    "    def __init__(self, data, names=None, inds=None, transposed=False):\n",
    "        if not transposed:\n",
    "            self.data = self.transpose(data)\n",
    "        else:\n",
    "            self.data = data\n",
    "        \n",
    "        if len(self.data) > 0:\n",
    "            self.rows_num = len(self.data[0])\n",
    "        else:\n",
    "            self.rows_num = 0\n",
    "        \n",
    "        columns_num = len(self.data)\n",
    "        \n",
    "        for column_data in self.data:\n",
    "            if len(column_data) != self.rows_num:\n",
    "                raise ValueError(\"arrays must all be same length\")\n",
    "        \n",
    "        if names is None:\n",
    "            names = range(1, columns_num + 1)\n",
    "\n",
    "        self.__names = {}\n",
    "        for i, name in enumerate(names):\n",
    "            self.__names[str(name)] = i\n",
    "        \n",
    "        if inds == None:\n",
    "            self.inds = list(range(1, self.rows_num + 1))\n",
    "        else:\n",
    "            self.inds = inds\n",
    "            \n",
    "        if len(self.inds) != self.rows_num:\n",
    "            raise ValueError(\"arrays must all be same length\")            \n",
    "        \n",
    "    def transpose(self, data):\n",
    "        if len(data) > 0:\n",
    "            columns_num = len(data[0])\n",
    "        else:\n",
    "            columns_num = 0\n",
    "        rows_num = len(data)\n",
    "        \n",
    "        transposed_data = []\n",
    "        for j in range(columns_num):\n",
    "            column_data = []\n",
    "            for i in range(rows_num):\n",
    "                column_data.append(data[i][j])\n",
    "            transposed_data.append(column_data)\n",
    "            \n",
    "        return transposed_data\n",
    "    \n",
    "    @property\n",
    "    def names(self):\n",
    "        return list(map(lambda pair: pair[0], sorted(list(self.__names.items()), key=lambda x: x[1])))\n",
    "    \n",
    "    # 1. Инициализация (считывание из файла)\n",
    "    @staticmethod\n",
    "    def read_csv(filename, header=True, sep=\";\", names=None):\n",
    "        with open(filename, \"r\") as file:\n",
    "            data = list(map(lambda line: line.strip().split(sep), file.readlines()))\n",
    "            \n",
    "            if header:\n",
    "                if names is None:\n",
    "                    names = data[0]\n",
    "                data = data[1:]\n",
    "            \n",
    "            return Table(data, names=names)\n",
    "    \n",
    "    # 2. Возможность переименования столбцов\n",
    "    def rename(self, old, new):\n",
    "        old, new = str(old), str(new)\n",
    "        if new in self.__names:\n",
    "            raise ValueError(\"all names must be unique\")\n",
    "        self.__names[new] = self.__names[old]\n",
    "        self.__names.pop(old)\n",
    "        \n",
    "    # 3. Доступ к колонкам по названию и номеру\n",
    "    def __getitem__(self, key):\n",
    "        if isinstance(key, str):\n",
    "            index = self.__names[key]\n",
    "            return Table([self.data[index]], transposed=True, \n",
    "                         names=[key], inds=self.inds)\n",
    "        else:\n",
    "            return Table([self.data[key - 1]], transposed=True, \n",
    "                         names=[self.names[key - 1]], inds=self.inds)\n",
    "    \n",
    "    def __setitem__(self, key, column_data):\n",
    "        if len(column_data) != self.rows_num:\n",
    "            raise ValueError(\"arrays must all be same length\") \n",
    "            \n",
    "        if isinstance(key, str):\n",
    "            self.data[self.__names[key]] = column_data\n",
    "        else:\n",
    "            self.data[key - 1] = column_data\n",
    "    \n",
    "    # 4. head и tail\n",
    "    def head(self, num=5):\n",
    "        new_data = []\n",
    "        for column_data in self.data:\n",
    "            new_data.append(column_data[:num])\n",
    "        \n",
    "        return Table(new_data, transposed=True, \n",
    "                     inds=self.inds[:num], names=self.names)\n",
    "            \n",
    "    def tail(self, num=5):\n",
    "        new_data = []\n",
    "        for column_data in self.data:\n",
    "            new_data.append(column_data[max(self.rows_num - num, 0):])\n",
    "        return Table(new_data, transposed=True, \n",
    "                     inds=self.inds[max(self.rows_num - num, 0):], names=self.names)\n",
    "    \n",
    "    def __str__(self):\n",
    "        result = \"\"\n",
    "        simple = [ [\"\"] + self.inds ]\n",
    "        for index, name in enumerate(self.names):\n",
    "            simple.append([ \"'\" + name + \"'\"] + self.data[index])\n",
    "        \n",
    "        for j in range(len(simple[0])):\n",
    "            for i in range(len(simple)):\n",
    "                result += str(simple[i][j])\n",
    "                result += \"\\t\"\n",
    "            result += \"\\n\"\n",
    "        return result[:-1]\n",
    "    \n",
    "    def __repr__(self):\n",
    "        return str(self)\n",
    "    \n",
    "    # 5. unique и count\n",
    "    def unique(self):\n",
    "        to_unique = []\n",
    "        for column in self.data:\n",
    "            to_unique.extend(column)\n",
    "        return list(set(to_unique))\n",
    "    \n",
    "    def count(self):\n",
    "        new_data = []\n",
    "        for column_data in self.data:\n",
    "            new_data.append(sum(map(lambda x: x is not None, column_data)))\n",
    "        return Table([ new_data ], transposed=True, names=['count'], inds=self.names)\n",
    "    \n",
    "    \n",
    "    # Остальное\n",
    "    def __len__(self):\n",
    "        return self.rows_num\n",
    "    \n",
    "    def __iter__(self):\n",
    "        if len(self.data) > 1:\n",
    "            data = self.transpose(self.data)\n",
    "            for row_data in data:\n",
    "                yield row_data\n",
    "        else:\n",
    "            for elem in self.data[0]:\n",
    "                yield elem"
   ]
  },
  {
   "cell_type": "markdown",
   "metadata": {},
   "source": [
    "## Тестирование"
   ]
  },
  {
   "cell_type": "markdown",
   "metadata": {},
   "source": [
    "### Обычная инициализация"
   ]
  },
  {
   "cell_type": "code",
   "execution_count": 974,
   "metadata": {},
   "outputs": [
    {
     "data": {
      "text/plain": [
       "\t'1'\t'2'\t'3'\t'4'\t\n",
       "1\t1\t2\t3\t4\t\n",
       "2\t5\t6\t7\t8\t\n",
       "3\t9\t10\t11\t12\t\n",
       "4\t13\t14\t15\t16\t\n",
       "5\t17\t18\t19\t20\t"
      ]
     },
     "execution_count": 974,
     "metadata": {},
     "output_type": "execute_result"
    }
   ],
   "source": [
    "Table([[ 1,  2,  3,  4],\n",
    "       [ 5,  6,  7,  8],\n",
    "       [ 9, 10, 11, 12],\n",
    "       [13, 14, 15, 16],\n",
    "       [17, 18, 19, 20]])"
   ]
  },
  {
   "cell_type": "code",
   "execution_count": 975,
   "metadata": {},
   "outputs": [
    {
     "data": {
      "text/plain": [
       "\t'a'\t'b'\t'c'\t'd'\t\n",
       "1\t1\t2\t3\t4\t\n",
       "2\t5\t6\t7\t8\t\n",
       "3\t9\t10\t11\t12\t\n",
       "4\t13\t14\t15\t16\t\n",
       "5\t17\t18\t19\t20\t"
      ]
     },
     "execution_count": 975,
     "metadata": {},
     "output_type": "execute_result"
    }
   ],
   "source": [
    "Table([[ 1,  2,  3,  4],\n",
    "       [ 5,  6,  7,  8],\n",
    "       [ 9, 10, 11, 12],\n",
    "       [13, 14, 15, 16],\n",
    "       [17, 18, 19, 20]], names=['a', 'b', 'c', 'd'])"
   ]
  },
  {
   "cell_type": "code",
   "execution_count": 976,
   "metadata": {},
   "outputs": [
    {
     "data": {
      "text/plain": [
       "\t'1'\t'2'\t'3'\t'4'\t\n",
       "11\t1\t2\t3\t4\t\n",
       "12\t5\t6\t7\t8\t\n",
       "13\t9\t10\t11\t12\t\n",
       "14\t13\t14\t15\t16\t\n",
       "15\t17\t18\t19\t20\t"
      ]
     },
     "execution_count": 976,
     "metadata": {},
     "output_type": "execute_result"
    }
   ],
   "source": [
    "Table([[ 1,  2,  3,  4],\n",
    "       [ 5,  6,  7,  8],\n",
    "       [ 9, 10, 11, 12],\n",
    "       [13, 14, 15, 16],\n",
    "       [17, 18, 19, 20]], inds=list(range(11, 16)))"
   ]
  },
  {
   "cell_type": "code",
   "execution_count": 977,
   "metadata": {},
   "outputs": [
    {
     "data": {
      "text/plain": [
       "\t'1'\t'2'\t'3'\t'4'\t'5'\t\n",
       "1\t1\t5\t9\t13\t17\t\n",
       "2\t2\t6\t10\t14\t18\t\n",
       "3\t3\t7\t11\t15\t19\t\n",
       "4\t4\t8\t12\t16\t20\t"
      ]
     },
     "execution_count": 977,
     "metadata": {},
     "output_type": "execute_result"
    }
   ],
   "source": [
    "Table([[ 1,  2,  3,  4],\n",
    "       [ 5,  6,  7,  8],\n",
    "       [ 9, 10, 11, 12],\n",
    "       [13, 14, 15, 16],\n",
    "       [17, 18, 19, 20]], transposed=True)"
   ]
  },
  {
   "cell_type": "markdown",
   "metadata": {},
   "source": [
    "### Считывания из файла"
   ]
  },
  {
   "cell_type": "code",
   "execution_count": 978,
   "metadata": {},
   "outputs": [
    {
     "data": {
      "text/plain": [
       "\t'name'\t'test'\t'head'\t\n",
       "1\t2\t3\t4\t\n",
       "2\t5\t4\t3\t\n",
       "3\t2\t3\t4\t\n",
       "4\t2\t3\t2\t\n",
       "5\t1\t3\t1\t\n",
       "6\t1\t1\t0\t"
      ]
     },
     "execution_count": 978,
     "metadata": {},
     "output_type": "execute_result"
    }
   ],
   "source": [
    "Table.read_csv(\"table.txt\")"
   ]
  },
  {
   "cell_type": "code",
   "execution_count": 979,
   "metadata": {},
   "outputs": [
    {
     "data": {
      "text/plain": [
       "\t'name;test;head'\t\n",
       "1\t2;3;4\t\n",
       "2\t5;4;3\t\n",
       "3\t2;3;4\t\n",
       "4\t2;3;2\t\n",
       "5\t1;3;1\t\n",
       "6\t1;1;0\t"
      ]
     },
     "execution_count": 979,
     "metadata": {},
     "output_type": "execute_result"
    }
   ],
   "source": [
    "Table.read_csv(\"table.txt\", sep='\\t')"
   ]
  },
  {
   "cell_type": "code",
   "execution_count": 980,
   "metadata": {},
   "outputs": [
    {
     "data": {
      "text/plain": [
       "\t'name'\t'test'\t'head'\t\n",
       "1\t2\t3\t4\t\n",
       "2\t5\t4\t3\t\n",
       "3\t2\t3\t4\t\n",
       "4\t2\t3\t2\t\n",
       "5\t1\t3\t1\t\n",
       "6\t1\t1\t0\t"
      ]
     },
     "execution_count": 980,
     "metadata": {},
     "output_type": "execute_result"
    }
   ],
   "source": [
    "Table.read_csv(\"tab_table.txt\", sep='\\t')"
   ]
  },
  {
   "cell_type": "markdown",
   "metadata": {},
   "source": [
    "### Переименовывание столбцов"
   ]
  },
  {
   "cell_type": "code",
   "execution_count": 981,
   "metadata": {},
   "outputs": [
    {
     "data": {
      "text/plain": [
       "\t'1'\t'2'\t'3'\t'4'\t\n",
       "1\t1\t2\t3\t4\t\n",
       "2\t5\t6\t7\t8\t\n",
       "3\t9\t10\t11\t12\t\n",
       "4\t13\t14\t15\t16\t\n",
       "5\t17\t18\t19\t20\t"
      ]
     },
     "execution_count": 981,
     "metadata": {},
     "output_type": "execute_result"
    }
   ],
   "source": [
    "t = Table([[ 1,  2,  3,  4],\n",
    "           [ 5,  6,  7,  8],\n",
    "           [ 9, 10, 11, 12],\n",
    "           [13, 14, 15, 16],\n",
    "           [17, 18, 19, 20]])\n",
    "t"
   ]
  },
  {
   "cell_type": "code",
   "execution_count": 982,
   "metadata": {},
   "outputs": [
    {
     "data": {
      "text/plain": [
       "\t'name'\t'2'\t'3'\t'4'\t\n",
       "1\t1\t2\t3\t4\t\n",
       "2\t5\t6\t7\t8\t\n",
       "3\t9\t10\t11\t12\t\n",
       "4\t13\t14\t15\t16\t\n",
       "5\t17\t18\t19\t20\t"
      ]
     },
     "execution_count": 982,
     "metadata": {},
     "output_type": "execute_result"
    }
   ],
   "source": [
    "t.rename(1, 'name')\n",
    "t"
   ]
  },
  {
   "cell_type": "code",
   "execution_count": 983,
   "metadata": {},
   "outputs": [
    {
     "data": {
      "text/plain": [
       "\t'name'\t'2'\t'3'\t'surname'\t\n",
       "1\t1\t2\t3\t4\t\n",
       "2\t5\t6\t7\t8\t\n",
       "3\t9\t10\t11\t12\t\n",
       "4\t13\t14\t15\t16\t\n",
       "5\t17\t18\t19\t20\t"
      ]
     },
     "execution_count": 983,
     "metadata": {},
     "output_type": "execute_result"
    }
   ],
   "source": [
    "t.rename('4', 'surname')\n",
    "t"
   ]
  },
  {
   "cell_type": "code",
   "execution_count": 984,
   "metadata": {},
   "outputs": [
    {
     "data": {
      "text/plain": [
       "\t'name_v2'\t'2'\t'3'\t'surname'\t\n",
       "1\t1\t2\t3\t4\t\n",
       "2\t5\t6\t7\t8\t\n",
       "3\t9\t10\t11\t12\t\n",
       "4\t13\t14\t15\t16\t\n",
       "5\t17\t18\t19\t20\t"
      ]
     },
     "execution_count": 984,
     "metadata": {},
     "output_type": "execute_result"
    }
   ],
   "source": [
    "t.rename('name', 'name_v2')\n",
    "t"
   ]
  },
  {
   "cell_type": "markdown",
   "metadata": {},
   "source": [
    "### Доступ к столбцам"
   ]
  },
  {
   "cell_type": "code",
   "execution_count": 985,
   "metadata": {},
   "outputs": [
    {
     "data": {
      "text/plain": [
       "\t'name'\t'2'\t'3'\t'surname'\t\n",
       "1\t1\t2\t3\t4\t\n",
       "2\t5\t6\t7\t8\t\n",
       "3\t9\t10\t11\t12\t\n",
       "4\t13\t14\t15\t16\t\n",
       "5\t17\t18\t19\t20\t"
      ]
     },
     "execution_count": 985,
     "metadata": {},
     "output_type": "execute_result"
    }
   ],
   "source": [
    "t = Table([[ 1,  2,  3,  4],\n",
    "           [ 5,  6,  7,  8],\n",
    "           [ 9, 10, 11, 12],\n",
    "           [13, 14, 15, 16],\n",
    "           [17, 18, 19, 20]])\n",
    "t.rename(1, 'name')\n",
    "t.rename(4, 'surname')\n",
    "t"
   ]
  },
  {
   "cell_type": "markdown",
   "metadata": {},
   "source": [
    "#### Присвоение"
   ]
  },
  {
   "cell_type": "code",
   "execution_count": 986,
   "metadata": {},
   "outputs": [
    {
     "data": {
      "text/plain": [
       "\t'name'\t'2'\t'3'\t'surname'\t\n",
       "1\t0\t2\t3\t4\t\n",
       "2\t0\t6\t7\t8\t\n",
       "3\t0\t10\t11\t12\t\n",
       "4\t0\t14\t15\t16\t\n",
       "5\t0\t18\t19\t20\t"
      ]
     },
     "execution_count": 986,
     "metadata": {},
     "output_type": "execute_result"
    }
   ],
   "source": [
    "t[1] = [0, 0, 0, 0, 0]\n",
    "t"
   ]
  },
  {
   "cell_type": "code",
   "execution_count": 987,
   "metadata": {},
   "outputs": [
    {
     "data": {
      "text/plain": [
       "\t'name'\t'2'\t'3'\t'surname'\t\n",
       "1\t0\t2\t3\t1\t\n",
       "2\t0\t6\t7\t1\t\n",
       "3\t0\t10\t11\t1\t\n",
       "4\t0\t14\t15\t1\t\n",
       "5\t0\t18\t19\t1\t"
      ]
     },
     "execution_count": 987,
     "metadata": {},
     "output_type": "execute_result"
    }
   ],
   "source": [
    "t['surname'] = [ 1 ] * len(t)\n",
    "t"
   ]
  },
  {
   "cell_type": "code",
   "execution_count": 988,
   "metadata": {},
   "outputs": [
    {
     "data": {
      "text/plain": [
       "\t'name'\t'2'\t'3'\t'surname'\t\n",
       "1\t0\t16\t3\t1\t\n",
       "2\t0\t17\t7\t1\t\n",
       "3\t0\t18\t11\t1\t\n",
       "4\t0\t19\t15\t1\t\n",
       "5\t0\t20\t19\t1\t"
      ]
     },
     "execution_count": 988,
     "metadata": {},
     "output_type": "execute_result"
    }
   ],
   "source": [
    "t[2] = list(range(16, 21))\n",
    "t"
   ]
  },
  {
   "cell_type": "markdown",
   "metadata": {},
   "source": [
    "#### Обращение"
   ]
  },
  {
   "cell_type": "code",
   "execution_count": 989,
   "metadata": {},
   "outputs": [
    {
     "data": {
      "text/plain": [
       "\t'name'\t\n",
       "1\t0\t\n",
       "2\t0\t\n",
       "3\t0\t\n",
       "4\t0\t\n",
       "5\t0\t"
      ]
     },
     "execution_count": 989,
     "metadata": {},
     "output_type": "execute_result"
    }
   ],
   "source": [
    "t['name']"
   ]
  },
  {
   "cell_type": "code",
   "execution_count": 990,
   "metadata": {},
   "outputs": [
    {
     "data": {
      "text/plain": [
       "\t'3'\t\n",
       "1\t3\t\n",
       "2\t7\t\n",
       "3\t11\t\n",
       "4\t15\t\n",
       "5\t19\t"
      ]
     },
     "execution_count": 990,
     "metadata": {},
     "output_type": "execute_result"
    }
   ],
   "source": [
    "t[3]"
   ]
  },
  {
   "cell_type": "code",
   "execution_count": 991,
   "metadata": {},
   "outputs": [
    {
     "data": {
      "text/plain": [
       "\t'surname'\t\n",
       "1\t1\t\n",
       "2\t1\t\n",
       "3\t1\t\n",
       "4\t1\t\n",
       "5\t1\t"
      ]
     },
     "execution_count": 991,
     "metadata": {},
     "output_type": "execute_result"
    }
   ],
   "source": [
    "t[4]"
   ]
  },
  {
   "cell_type": "markdown",
   "metadata": {},
   "source": [
    "### Функции `head` и `tail`"
   ]
  },
  {
   "cell_type": "code",
   "execution_count": 992,
   "metadata": {},
   "outputs": [
    {
     "data": {
      "text/plain": [
       "\t'a'\t'b'\t'c'\t'd'\t\n",
       "1\t1\t2\t3\t4\t\n",
       "2\t5\t6\t7\t8\t\n",
       "3\t9\t10\t11\t12\t\n",
       "4\t13\t14\t15\t16\t\n",
       "5\t17\t18\t19\t20\t\n",
       "6\t21\t22\t23\t24\t\n",
       "7\t25\t26\t27\t28\t"
      ]
     },
     "execution_count": 992,
     "metadata": {},
     "output_type": "execute_result"
    }
   ],
   "source": [
    "t = Table([[ 1,  2,  3,  4],\n",
    "           [ 5,  6,  7,  8],\n",
    "           [ 9, 10, 11, 12],\n",
    "           [13, 14, 15, 16],\n",
    "           [17, 18, 19, 20],\n",
    "           [21, 22, 23, 24], \n",
    "           [25, 26, 27, 28]], names=['a', 'b', 'c', 'd'])\n",
    "t"
   ]
  },
  {
   "cell_type": "code",
   "execution_count": 993,
   "metadata": {},
   "outputs": [
    {
     "data": {
      "text/plain": [
       "\t'a'\t'b'\t'c'\t'd'\t\n",
       "1\t1\t2\t3\t4\t\n",
       "2\t5\t6\t7\t8\t\n",
       "3\t9\t10\t11\t12\t\n",
       "4\t13\t14\t15\t16\t\n",
       "5\t17\t18\t19\t20\t"
      ]
     },
     "execution_count": 993,
     "metadata": {},
     "output_type": "execute_result"
    }
   ],
   "source": [
    "t.head()"
   ]
  },
  {
   "cell_type": "code",
   "execution_count": 994,
   "metadata": {},
   "outputs": [
    {
     "data": {
      "text/plain": [
       "\t'a'\t\n",
       "1\t1\t\n",
       "2\t5\t"
      ]
     },
     "execution_count": 994,
     "metadata": {},
     "output_type": "execute_result"
    }
   ],
   "source": [
    "t['a'].head(2)"
   ]
  },
  {
   "cell_type": "code",
   "execution_count": 995,
   "metadata": {},
   "outputs": [
    {
     "data": {
      "text/plain": [
       "\t'a'\t'b'\t'c'\t'd'\t\n",
       "3\t9\t10\t11\t12\t\n",
       "4\t13\t14\t15\t16\t\n",
       "5\t17\t18\t19\t20\t\n",
       "6\t21\t22\t23\t24\t\n",
       "7\t25\t26\t27\t28\t"
      ]
     },
     "execution_count": 995,
     "metadata": {},
     "output_type": "execute_result"
    }
   ],
   "source": [
    "t.tail()\n"
   ]
  },
  {
   "cell_type": "code",
   "execution_count": 996,
   "metadata": {},
   "outputs": [
    {
     "data": {
      "text/plain": [
       "\t'b'\t\n",
       "5\t18\t\n",
       "6\t22\t\n",
       "7\t26\t"
      ]
     },
     "execution_count": 996,
     "metadata": {},
     "output_type": "execute_result"
    }
   ],
   "source": [
    "t[2].tail(3)"
   ]
  },
  {
   "cell_type": "markdown",
   "metadata": {},
   "source": [
    "### Методы `unique` и `count`"
   ]
  },
  {
   "cell_type": "code",
   "execution_count": 997,
   "metadata": {},
   "outputs": [
    {
     "data": {
      "text/plain": [
       "\t'a'\t'b'\t'c'\t'd'\t\n",
       "1\t0\t1\t2\t3\t\n",
       "2\t1\t2\t3\t4\t\n",
       "3\t2\t3\t4\t5\t\n",
       "4\t3\t4\t5\t6\t\n",
       "5\t4\t5\t6\t7\t\n",
       "6\t0\t1\t2\t3\t\n",
       "7\t1\t2\t3\t4\t\n",
       "8\t2\t3\t4\t5\t\n",
       "9\t3\t4\t5\t6\t\n",
       "10\t4\t5\t6\t7\t"
      ]
     },
     "execution_count": 997,
     "metadata": {},
     "output_type": "execute_result"
    }
   ],
   "source": [
    "t = Table([[ i + j % 5 for i in range(4)] for j in range(10) ], names=['a', 'b', 'c', 'd'])\n",
    "t"
   ]
  },
  {
   "cell_type": "code",
   "execution_count": 998,
   "metadata": {},
   "outputs": [
    {
     "data": {
      "text/plain": [
       "[0, 1, 2, 3, 4, 5, 6, 7]"
      ]
     },
     "execution_count": 998,
     "metadata": {},
     "output_type": "execute_result"
    }
   ],
   "source": [
    "t.unique()"
   ]
  },
  {
   "cell_type": "code",
   "execution_count": 999,
   "metadata": {},
   "outputs": [
    {
     "data": {
      "text/plain": [
       "[0, 1, 2, 3, 4]"
      ]
     },
     "execution_count": 999,
     "metadata": {},
     "output_type": "execute_result"
    }
   ],
   "source": [
    "t['a'].unique()"
   ]
  },
  {
   "cell_type": "code",
   "execution_count": 1000,
   "metadata": {},
   "outputs": [
    {
     "data": {
      "text/plain": [
       "[3, 4, 5, 6, 7]"
      ]
     },
     "execution_count": 1000,
     "metadata": {},
     "output_type": "execute_result"
    }
   ],
   "source": [
    "t[4].unique()"
   ]
  },
  {
   "cell_type": "code",
   "execution_count": 1001,
   "metadata": {},
   "outputs": [
    {
     "data": {
      "text/plain": [
       "\t'count'\t\n",
       "a\t10\t\n",
       "b\t10\t\n",
       "c\t10\t\n",
       "d\t10\t"
      ]
     },
     "execution_count": 1001,
     "metadata": {},
     "output_type": "execute_result"
    }
   ],
   "source": [
    "t.count()"
   ]
  },
  {
   "cell_type": "code",
   "execution_count": 1002,
   "metadata": {},
   "outputs": [
    {
     "data": {
      "text/plain": [
       "\t'count'\t\n",
       "a\t10\t\n",
       "b\t2\t\n",
       "c\t10\t\n",
       "d\t10\t"
      ]
     },
     "execution_count": 1002,
     "metadata": {},
     "output_type": "execute_result"
    }
   ],
   "source": [
    "array = [ None ] * len(t)\n",
    "array[5] = 10\n",
    "array[2] = 100\n",
    "t['b'] = array\n",
    "t.count()"
   ]
  },
  {
   "cell_type": "code",
   "execution_count": 1003,
   "metadata": {},
   "outputs": [
    {
     "data": {
      "text/plain": [
       "[10, 2]"
      ]
     },
     "execution_count": 1003,
     "metadata": {},
     "output_type": "execute_result"
    }
   ],
   "source": [
    "t.count().unique()"
   ]
  },
  {
   "cell_type": "code",
   "execution_count": 1004,
   "metadata": {},
   "outputs": [
    {
     "data": {
      "text/plain": [
       "\t'count'\t\n",
       "b\t2\t"
      ]
     },
     "execution_count": 1004,
     "metadata": {},
     "output_type": "execute_result"
    }
   ],
   "source": [
    "t['b'].count()"
   ]
  },
  {
   "cell_type": "code",
   "execution_count": 1005,
   "metadata": {},
   "outputs": [
    {
     "data": {
      "text/plain": [
       "2"
      ]
     },
     "execution_count": 1005,
     "metadata": {},
     "output_type": "execute_result"
    }
   ],
   "source": [
    "list(t['b'].count())[0]"
   ]
  }
 ],
 "metadata": {
  "kernelspec": {
   "display_name": "Python 3",
   "language": "python",
   "name": "python3"
  },
  "language_info": {
   "codemirror_mode": {
    "name": "ipython",
    "version": 3
   },
   "file_extension": ".py",
   "mimetype": "text/x-python",
   "name": "python",
   "nbconvert_exporter": "python",
   "pygments_lexer": "ipython3",
   "version": "3.6.4"
  }
 },
 "nbformat": 4,
 "nbformat_minor": 2
}
